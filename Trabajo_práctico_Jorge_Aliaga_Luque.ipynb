{
  "nbformat": 4,
  "nbformat_minor": 0,
  "metadata": {
    "colab": {
      "provenance": [],
      "include_colab_link": true
    },
    "kernelspec": {
      "name": "python3",
      "display_name": "Python 3"
    }
  },
  "cells": [
    {
      "cell_type": "markdown",
      "metadata": {
        "id": "view-in-github",
        "colab_type": "text"
      },
      "source": [
        "<a href=\"https://colab.research.google.com/github/jorgealiaga36/03MIAR---Algoritmos-de-optimizacion---2023/blob/main/Trabajo_pr%C3%A1ctico_Jorge_Aliaga_Luque.ipynb\" target=\"_parent\"><img src=\"https://colab.research.google.com/assets/colab-badge.svg\" alt=\"Open In Colab\"/></a>"
      ]
    },
    {
      "cell_type": "markdown",
      "metadata": {
        "id": "hVbXYX-RfPWh"
      },
      "source": [
        "# Algoritmos de optimización - Trabajo Práctico<br>\n",
        "**Nombre y Apellidos**: Jorge Aliaga Luque  <br>\n",
        "**Url**: <br>\n",
        "**Google Colab**: <br>\n",
        "\n",
        "------------------------------------------------------\n",
        "\n",
        "**Organizar los horarios de partidos de La Liga**.\n",
        "\n",
        "Desde la La Liga de fútbol profesional se pretende organizar los horarios de los partidos de liga de cada jornada. Se conocen algunos datos que nos deben llevar a diseñar un algoritmo que realice la asignación de los partidos a los horarios de forma que maximice la audiencia.\n",
        "\n",
        "Los horarios disponibles se conocen a priori y son los siguientes (horario 24h):\n",
        "\n",
        "+ **Viernes**: 20.\n",
        "+ **Sábado**: 12, 16, 18, y 20.\n",
        "+ **Domingo**: 12, 16, 18 y 20.\n",
        "+ **Lunes**: 20.\n",
        "\n",
        "En primer lugar se clasifican los equipos en tres categorías según el numero de seguidores (que tiene relación directa con la audiencia). Hay 3 equipos en la categoría A, 11 equipos de categoría B y 6 equipos de categoría C.\n",
        "\n",
        "Se conoce estadísticamente la audiencia que genera cada partido según los equipos que se enfrentan y en horario de sábado a las 20h (el mejor en todos los casos):\n",
        "\n",
        "+ **Categoría A-A**: 2 millones.\n",
        "+ **Categoría A-B**: 1.3 millones.\n",
        "+ **Categoría A-C**: 1 millón.\n",
        "+ **Categoría B-B**: 0.9 millones.\n",
        "+ **Categoría B-C**: 0.75 millones.\n",
        "+ **Categoría C-C**: 0.47 millones.\n",
        "\n",
        "Si el horario del partido no se realiza a las 20 horas del sábado se sabe que se reduce según los coeficientes siguientes (horarios de 24h):\n",
        "\n",
        "+ **Viernes 20**: 0.4\n",
        "+ **Sábado 12**: 0.55\n",
        "+ **Sábado 16**: 0.7\n",
        "+ **Sábado 18**: 0.8\n",
        "+ **Sábado 20**: 1\n",
        "+ **Domingo 12**: 0.45\n",
        "+ **Domingo 16**: 0.75\n",
        "+ **Domingo 18**: 0.85\n",
        "+ **Domingo 20**: 1\n",
        "+ **Lunes 20**: 0.4\n",
        "\n",
        "Debemos asignar obligatoriamente siempre un partido el viernes y un partido el lunes.\n",
        "\n",
        "Es posible la coincidencia de horarios pero en este caso la audiencia de cada partido se verá afectada y se estima que se reduce en porcentaje según la siguiente tabla dependiendo del número de coincidencias:\n",
        "\n",
        "+ **0 coincidencias**: 0%\n",
        "+ **1 coincidencias**: 25%\n",
        "+ **2 coincidencias**: 45%\n",
        "+ **3 coincidencias**: 60%\n",
        "+ **4 coincidencias**: 70%\n",
        "+ **5 coincidencias**: 75%\n",
        "+ **6 coincidencias**: 78%\n",
        "+ **7 coincidencias**: 80%\n",
        "+ **8 coincidencias**: 80%\n",
        "\n",
        "De esta forma se podrán realizar los cálculos necesarios para cada jornada.\n",
        "\n",
        "\n",
        "\n",
        "\n",
        "                                        "
      ]
    },
    {
      "cell_type": "markdown",
      "source": [
        "#**Modelo**\n"
      ],
      "metadata": {
        "id": "Sbo9IqQtpaHZ"
      }
    },
    {
      "cell_type": "markdown",
      "source": [
        "## **1. Representación espacio de soluciones**"
      ],
      "metadata": {
        "id": "E3uAGq5gCQBB"
      }
    },
    {
      "cell_type": "markdown",
      "source": [
        "Para la resolución del problema, se ha almacenado la información en dos tipos de datos, listas y diccionarios. Ambos permiten almacenar la información de forma ordenada y clara, aspecto esencial en la resolución de un problema de este tipo. Se detallan a continuación:\n",
        "\n",
        "+ **Diccionarios**: La siguiente información se almacenado mediante este tipo de dato, donde el primer dato representa la clave del diccionario y el segundo dato, el valor asociado a dicha clave:\n",
        "\n",
        "  - **Beneficio por categoría**: Categoría-Beneficio.\n",
        "  - **Coincidencias**: Nºcoinciencias-penalización.\n",
        "  - **Valor por horario**: Horario-Coeficiente-penalización.\n",
        "  - **Categorías por equipo**: Equipo-Categoría.\n",
        "  - **Horarios**: Horario-Partido.\n",
        "\n",
        "+ **Listas**: La siguiente información se ha almacenado mediante este tipo de dato:\n",
        "\n",
        "  - **Partidos disponibles**: Lista de tuplas.\n",
        "  - **Partidos en un horario**: de esta forma permite guardar varios valores en caso de coincidencia."
      ],
      "metadata": {
        "id": "nTBJxYO5JjY_"
      }
    },
    {
      "cell_type": "markdown",
      "source": [
        "## **2. Función objetivo**"
      ],
      "metadata": {
        "id": "mfvOn_lUCHxk"
      }
    },
    {
      "cell_type": "markdown",
      "source": [
        "El objetivo del problema es la organización de los partidos en una jornada de La Liga en ciertos horarios, de tal forma que se maximice la audencia (beneficios). Por tanto, el objetivo es maximizar la función objetivo.\n",
        "\n",
        "Para el calculo de dicho beneficio(por partido), se aplicará la siguiente fórmula:\n",
        "\n",
        "+ **beneficio = beneficio_categoría_equipos * ponderación_día_hora *  (1-factor_coindicencia*equipos_coincidentes)**\n",
        "\n",
        "De esta forma, se aplicará dicha expresión a cada partido, cuya suma de beneficios obtenidos, por cada uno, será el beneficio total de la jornada.\n",
        "\n",
        "\n"
      ],
      "metadata": {
        "id": "yARs8s6dHUKL"
      }
    },
    {
      "cell_type": "markdown",
      "source": [
        "## **3. Implementación de las restricciones**"
      ],
      "metadata": {
        "id": "lB_ophFhCUNR"
      }
    },
    {
      "cell_type": "markdown",
      "source": [
        "Las restricciones del problema indican que, obligatoriamente, tiene que haber un partido el viernes y el lunes.\n",
        "\n",
        "Sabemos que el espacio de soluciones es de 10^9, ya que tenemos 9 cruces disposibles a distribuir sobre los 10 horarios disponibles\n",
        "\n",
        "Mediante la aplicación de las restriciones:\n",
        "+ El viernes tenemos 9 posibilidades.\n",
        "+ El lunes tenemos 8 posibilidades (1 cruce descartado para el viernes).\n",
        "+ El resto de cruces tendrán en total 10^7 soluciones.\n",
        "\n",
        "Por tanto, el espacio de soluciones se reduce al siguiente:\n",
        "+ **Nº soluciones = 9 * 8 * 10^7**"
      ],
      "metadata": {
        "id": "_HbPfsQWseaQ"
      }
    },
    {
      "cell_type": "markdown",
      "source": [
        "### **3.1. Complejidad**"
      ],
      "metadata": {
        "id": "bFfIAGthCjC6"
      }
    },
    {
      "cell_type": "markdown",
      "source": [
        "Decimos que un algoritmo tiene orden de **complejidad** O(f) si su tiempo de ejecución en operaciones elementales está acotado, salvo para una constante, por f, para todos los tamaños de entrada a partir de cierto número.\n",
        "\n",
        "Para este problema en cuestión, primero introducimos el proceso a seguir por el algoritmo. Primero recorre los cruces para ser distribuidos y en segundo lugar, recorre los horarios para calcular el beneficio.\n",
        "\n",
        "De esta forma, la complejidad será el producto entre el número de horarios y el número de cruces **(nºcruces*nºhorarios)**. Además, será necesario multiplicar por el número de iteraciones establecidas para encontrar la mejor solución."
      ],
      "metadata": {
        "id": "Q3y62zGZ1U6k"
      }
    },
    {
      "cell_type": "markdown",
      "source": [
        "### **3.2. Contabilización espacio de soluciones**"
      ],
      "metadata": {
        "id": "nh_CeTH8Cr8a"
      }
    },
    {
      "cell_type": "markdown",
      "source": [
        "Para la contabilización de espacio de soluciones hay que tener en cuenta que:\n",
        "\n",
        "+ Los partidos pueden introducirse dentro de 10 horarios disponibles.\n",
        "+ Para maximizar el beneficio, no importa el equipo en sí, sino la categoría a la que pertenece. De esta forma tenemos 9 cruces (A-A, B-A...) posibles.\n",
        "\n",
        "Por tanto, el espacio de soluciones será el siguiente:\n",
        "\n",
        "+ **Soluciones = 10^9**\n"
      ],
      "metadata": {
        "id": "7tZfzpeohbW5"
      }
    },
    {
      "cell_type": "markdown",
      "source": [
        "#**Diseño**"
      ],
      "metadata": {
        "id": "ixEJUwH_pv7M"
      }
    },
    {
      "cell_type": "markdown",
      "source": [
        "Para la resolución de este problema, vamos a utilizar una técnica metaheurística llamada **\"búsqueda aleatoria\"**. Este proceso consiste en generar soluciones aleatorias en cada iteración y es devuelta la mejor.\n",
        "\n",
        "La elección de este algoritmo viene condicionada por los siguientes motivos:\n",
        "\n",
        "+ La resolución es computacionalmente eficiente, ya que para un número elevado de iteraciones, los resultados son obtenidos de forma muy rápida.\n",
        "+ Este algoritmo tiene una fácil implementación.\n",
        "+ Permite la exploración de del espacio de soluciones de una forma amplia y afectiva.\n",
        "\n",
        "De esta forma, supone una ventaja respecto a otras técnicas como son las deterministas."
      ],
      "metadata": {
        "id": "db-QfWye9cZK"
      }
    },
    {
      "cell_type": "code",
      "source": [
        "import random"
      ],
      "metadata": {
        "id": "8U5lVFQu2YLs"
      },
      "execution_count": 44,
      "outputs": []
    },
    {
      "cell_type": "code",
      "source": [
        "# Distribuye los cruces\n",
        "def generar_horarios():\n",
        "\n",
        "  orig_partidos = [\n",
        "      ('Celta', 'RealMadrid'), ('Valencia', 'RealSociedad'),\\\n",
        "      ('Mallorca', 'Eibar'), ('Athletic', 'Barcelona'),\\\n",
        "      ('Leganes', 'Osasuna'), ('Villareal', 'Granada'),\\\n",
        "      ('Alavés', 'Levante'), ('Espanyol', 'Sevilla'),\\\n",
        "      ('Betis', 'Valladolid'),('Atlético', 'Getafe')\n",
        "  ]\n",
        "  partidos = orig_partidos # se crea una copia para no modificar el original\n",
        "\n",
        "  # Estructura de datos con los dias vacíos\n",
        "  horarios = {'V20':[],'S12':[],'S16':[],'S18':[],'S20':[],'D12':[],\\\n",
        "              'D16':[],'D18':[],'D20':[],'L20':[]}\n",
        "\n",
        "  # En lunes y viernes es obligatorio que haya partido\n",
        "\n",
        "  num_partido = random.randrange(len(partidos))\n",
        "  horarios['V20'].append(partidos[num_partido]) # Viernes\n",
        "  del partidos[num_partido] # Cruce elegido, se elimina\n",
        "\n",
        "  num_partido = random.randrange(len(partidos))\n",
        "  horarios['L20'].append(partidos[num_partido]) # Lunes\n",
        "  del partidos[num_partido] # Cruce elegido, se elimina\n",
        "\n",
        "  # En caso de que queden cruces por repartir\n",
        "  while(len(partidos)>0):\n",
        "\n",
        "    num_partido = random.randrange(len(partidos)) # Partido escogido\n",
        "    dia = random.randrange(10) # Día elgido (0-numero dias)\n",
        "\n",
        "    # Se añade el cruce en el horario\n",
        "    horario_elegido = list(horarios.keys())[dia]\n",
        "    horarios[horario_elegido].append(partidos[num_partido])\n",
        "    del partidos[num_partido] # Cruce elegido, se elimina\n",
        "\n",
        "  return horarios"
      ],
      "metadata": {
        "id": "izCUiEyo24P6"
      },
      "execution_count": 45,
      "outputs": []
    },
    {
      "cell_type": "code",
      "source": [
        "# Calcula el beneficio total para una solucion obtenida\n",
        "def calcular_valor(jornada):\n",
        "\n",
        "  # Variables del problema\n",
        "  #----------------------------------------------------------------------------\n",
        "  beneficio_cat = {'A-A':2,'A-B':1.3,'A-C':1,'B-A':1.3,'B-B':0.9,\\\n",
        "                   'B-C':0.75,'C-A':1,'C-B':0.75,'C-C':0.47}\n",
        "\n",
        "  pen_coincidencias = {0:0, 1:0.25, 2:0.45, 3:0.6, 4:0.7, 5:0.75,\\\n",
        "                       6:0.78, 7:0.8, 8:0.8}\n",
        "\n",
        "  coefs_horario = {'V20':0.4,'S12':0.55,'S16':0.7,'S18':0.8,'S20':1,\\\n",
        "                       'D12':0.45,'D16':0.75,'D18':0.85,'D20':1,'L20':0.4}\n",
        "\n",
        "  equipos_cat = {'Celta':'B','RealMadrid':'A','Valencia':'B',\n",
        "                 'RealSociedad':'A','Mallorca':'C','Eibar':'C','Athletic':'B',\\\n",
        "                 'Barcelona':'A','Leganes':'C','Osasuna':'C','Villareal':'B',\\\n",
        "                 'Granada':'C','Alavés':'B','Levante':'B','Espanyol':'B',\\\n",
        "                 'Sevilla':'B','Betis':'B','Valladolid':'C','Atlético':'B',\\\n",
        "                 'Getafe':'B'}\n",
        "  #----------------------------------------------------------------------------\n",
        "\n",
        "  beneficio_total = 0\n",
        "\n",
        "  # Recorremos los horarios\n",
        "  for j in jornada:\n",
        "\n",
        "    # En caso de que exista partido en un horario\n",
        "    if (jornada[j] !=0):\n",
        "\n",
        "      # Recorremos cada partido (horario elegido)\n",
        "      for p in jornada[j]:\n",
        "\n",
        "        # Se extrae categoria por equipo\n",
        "        # Se encuentra benificio por categoria encontrada\n",
        "        cat_p0 = equipos_cat[p[0]]\n",
        "        cat_p1 = equipos_cat[p[1]]\n",
        "\n",
        "        # Audiencia sumada de cada partido de cada jornada\n",
        "        pen_horario = beneficio_cat[f\"{cat_p0}-{cat_p1}\"]*coefs_horario[j]\n",
        "        beneficio_total += pen_horario*(1- pen_coincidencias[len(jornada[j])-1])\n",
        "\n",
        "  return beneficio_total, jornada"
      ],
      "metadata": {
        "id": "v9m28v7i26ix"
      },
      "execution_count": 46,
      "outputs": []
    },
    {
      "cell_type": "code",
      "source": [
        "# Genera una solucion aleatoria\n",
        "def generar_solucion():\n",
        "  jornada = generar_horarios()\n",
        "  valor = calcular_valor(jornada)\n",
        "  return valor"
      ],
      "metadata": {
        "id": "VDG8erAa28Wn"
      },
      "execution_count": 47,
      "outputs": []
    },
    {
      "cell_type": "code",
      "source": [
        "def obtener_mejor_cfg_aleatoria(iter):\n",
        "  mejor_solucion = [0,[]]\n",
        "  solucion = [0,[]]\n",
        "\n",
        "  #'iter' define el numero de veces que se ejecuta\n",
        "  for i in range(0, iter):\n",
        "    solucion = generar_solucion()\n",
        "\n",
        "    if (solucion[0] > mejor_solucion[0]):\n",
        "      mejor_solucion[0] = solucion[0]\n",
        "      mejor_solucion[1] = solucion[1]\n",
        "\n",
        "  return mejor_solucion"
      ],
      "metadata": {
        "id": "i8MQ7Alm2-Lm"
      },
      "execution_count": 48,
      "outputs": []
    },
    {
      "cell_type": "code",
      "source": [
        "obtener_mejor_cfg_aleatoria(1000)"
      ],
      "metadata": {
        "colab": {
          "base_uri": "https://localhost:8080/"
        },
        "id": "pnbFJaJ23Egc",
        "outputId": "ccc50b6e-abea-4d2d-ce48-f79246fa667a"
      },
      "execution_count": 49,
      "outputs": [
        {
          "output_type": "execute_result",
          "data": {
            "text/plain": [
              "[6.40075,\n",
              " {'V20': [('Mallorca', 'Eibar'), ('Leganes', 'Osasuna')],\n",
              "  'S12': [],\n",
              "  'S16': [('Valencia', 'RealSociedad')],\n",
              "  'S18': [('Athletic', 'Barcelona')],\n",
              "  'S20': [('Espanyol', 'Sevilla')],\n",
              "  'D12': [],\n",
              "  'D16': [('Betis', 'Valladolid'), ('Villareal', 'Granada')],\n",
              "  'D18': [('Atlético', 'Getafe')],\n",
              "  'D20': [('Celta', 'RealMadrid')],\n",
              "  'L20': [('Alavés', 'Levante')]}]"
            ]
          },
          "metadata": {},
          "execution_count": 49
        }
      ]
    }
  ]
}